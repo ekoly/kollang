{
 "cells": [
  {
   "cell_type": "code",
   "execution_count": 1,
   "metadata": {},
   "outputs": [],
   "source": [
    "import re\n",
    "\n",
    "parse_line_re = re.compile(r\"^(?P<indentation>\\s*)(?P<expr>[^#]*)(#.*)?\")\n",
    "expr_re = re.compile(r\"(?P<left>[^()]*)([])?\")\n",
    "expr_inner_re = re.compile(r\"(?P<var>[A-Za-z_][A-Za-z0-9_]*)(\\s*)(?P<operator>[])?\")\n",
    "\n",
    "def parse(lines):\n",
    "    for line in lines:\n",
    "        m = parse_line_re.match(line)\n",
    "        ind = len(m.group(\"indentation\"))\n",
    "        expr = m.group(\"expr\").strip()\n",
    "        print(ind, expr)\n",
    "        "
   ]
  },
  {
   "cell_type": "code",
   "execution_count": 2,
   "metadata": {},
   "outputs": [
    {
     "name": "stdout",
     "output_type": "stream",
     "text": [
      "0 \n",
      "0 for i in range(5): \n",
      "4 print(i)\n",
      "0 \n"
     ]
    }
   ],
   "source": [
    "test1 = \"\"\"\n",
    "for i in range(5): # for loop\n",
    "    print(i)\n",
    "\"\"\"\n",
    "parse(test1.split(\"\\n\"))"
   ]
  },
  {
   "cell_type": "code",
   "execution_count": null,
   "metadata": {},
   "outputs": [],
   "source": []
  }
 ],
 "metadata": {
  "kernelspec": {
   "display_name": "Python 3",
   "language": "python",
   "name": "python3"
  },
  "language_info": {
   "codemirror_mode": {
    "name": "ipython",
    "version": 3
   },
   "file_extension": ".py",
   "mimetype": "text/x-python",
   "name": "python",
   "nbconvert_exporter": "python",
   "pygments_lexer": "ipython3",
   "version": "3.8.2"
  }
 },
 "nbformat": 4,
 "nbformat_minor": 4
}
